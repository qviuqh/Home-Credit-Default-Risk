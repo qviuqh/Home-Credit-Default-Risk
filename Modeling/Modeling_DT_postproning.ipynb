{
 "cells": [
  {
   "cell_type": "code",
   "execution_count": 1,
   "id": "d83d02ec",
   "metadata": {
    "_cell_guid": "b1076dfc-b9ad-4769-8c92-a6c4dae69d19",
    "_uuid": "8f2839f25d086af736a60e9eeb907d3b93b6e0e5",
    "execution": {
     "iopub.execute_input": "2024-12-02T15:15:40.848997Z",
     "iopub.status.busy": "2024-12-02T15:15:40.848535Z",
     "iopub.status.idle": "2024-12-02T15:15:44.075455Z",
     "shell.execute_reply": "2024-12-02T15:15:44.074184Z"
    },
    "jupyter": {
     "source_hidden": true
    },
    "papermill": {
     "duration": 3.235856,
     "end_time": "2024-12-02T15:15:44.078273",
     "exception": false,
     "start_time": "2024-12-02T15:15:40.842417",
     "status": "completed"
    },
    "tags": []
   },
   "outputs": [
    {
     "data": {
      "text/html": [
       "<style>.container { width:100% !important; }</style>"
      ],
      "text/plain": [
       "<IPython.core.display.HTML object>"
      ]
     },
     "metadata": {},
     "output_type": "display_data"
    }
   ],
   "source": [
    "#importing Useful DataStructures\n",
    "import pandas as pd\n",
    "import numpy as np\n",
    "from scipy.stats import uniform\n",
    "\n",
    "#importing plotting libraries\n",
    "import matplotlib.pyplot as plt\n",
    "import seaborn as sns\n",
    "# from prettytable import PrettyTable\n",
    "\n",
    "#importing Misc Libraries\n",
    "import os\n",
    "import gc\n",
    "import pickle\n",
    "import warnings\n",
    "warnings.filterwarnings('ignore')\n",
    "from datetime import datetime\n",
    "\n",
    "#for 100% jupyter notebook cell width\n",
    "from IPython.core.display import display, HTML\n",
    "display(HTML(\"<style>.container { width:100% !important; }</style>\"))\n",
    "\n",
    "#sklearn\n",
    "from sklearn.preprocessing import StandardScaler\n",
    "from sklearn.model_selection import train_test_split\n",
    "from sklearn.model_selection import StratifiedKFold\n",
    "from sklearn.model_selection import RandomizedSearchCV\n",
    "from sklearn.metrics import roc_auc_score\n",
    "from sklearn.metrics import precision_score\n",
    "from sklearn.metrics import recall_score\n",
    "from sklearn.metrics import roc_curve\n",
    "from sklearn.metrics import confusion_matrix\n",
    "from sklearn.preprocessing import label_binarize\n",
    "from sklearn.neighbors import KNeighborsClassifier\n",
    "from sklearn.linear_model import SGDClassifier\n",
    "from sklearn.calibration import CalibratedClassifierCV"
   ]
  },
  {
   "cell_type": "code",
   "execution_count": 2,
   "id": "7a8e355b",
   "metadata": {
    "execution": {
     "iopub.execute_input": "2024-12-02T15:15:44.087367Z",
     "iopub.status.busy": "2024-12-02T15:15:44.086814Z",
     "iopub.status.idle": "2024-12-02T15:15:44.127178Z",
     "shell.execute_reply": "2024-12-02T15:15:44.126056Z"
    },
    "papermill": {
     "duration": 0.047599,
     "end_time": "2024-12-02T15:15:44.129696",
     "exception": false,
     "start_time": "2024-12-02T15:15:44.082097",
     "status": "completed"
    },
    "tags": []
   },
   "outputs": [],
   "source": [
    "from sklearn.tree import DecisionTreeClassifier\n",
    "from sklearn.model_selection import train_test_split, GridSearchCV\n",
    "from sklearn.metrics import mean_squared_error, accuracy_score"
   ]
  },
  {
   "cell_type": "code",
   "execution_count": 3,
   "id": "4ca206df",
   "metadata": {
    "execution": {
     "iopub.execute_input": "2024-12-02T15:15:44.138289Z",
     "iopub.status.busy": "2024-12-02T15:15:44.137913Z",
     "iopub.status.idle": "2024-12-02T15:15:54.375986Z",
     "shell.execute_reply": "2024-12-02T15:15:54.374609Z"
    },
    "papermill": {
     "duration": 10.245799,
     "end_time": "2024-12-02T15:15:54.379089",
     "exception": false,
     "start_time": "2024-12-02T15:15:44.133290",
     "status": "completed"
    },
    "tags": []
   },
   "outputs": [],
   "source": [
    "# Đường dẫn tới file .pkl\n",
    "data_path = '/kaggle/input/data-final/train_data_final.pkl'\n",
    "test_path = '/kaggle/input/data-final/test_data_final.pkl'\n",
    "# Mở file .pkl và đọc dữ liệu\n",
    "with open(data_path, 'rb') as file:\n",
    "    data = pickle.load(file)\n",
    "\n",
    "with open(test_path, 'rb') as file:\n",
    "    test = pickle.load(file)"
   ]
  },
  {
   "cell_type": "code",
   "execution_count": 4,
   "id": "3e609029",
   "metadata": {
    "execution": {
     "iopub.execute_input": "2024-12-02T15:15:54.388253Z",
     "iopub.status.busy": "2024-12-02T15:15:54.387719Z",
     "iopub.status.idle": "2024-12-02T15:15:57.374957Z",
     "shell.execute_reply": "2024-12-02T15:15:57.373738Z"
    },
    "papermill": {
     "duration": 2.994959,
     "end_time": "2024-12-02T15:15:57.377732",
     "exception": false,
     "start_time": "2024-12-02T15:15:54.382773",
     "status": "completed"
    },
    "tags": []
   },
   "outputs": [],
   "source": [
    "data.drop(labels=\"Unnamed: 0\",axis=1,inplace=True)\n",
    "test.drop(labels=\"Unnamed: 0\",axis=1,inplace=True)"
   ]
  },
  {
   "cell_type": "code",
   "execution_count": 5,
   "id": "9cc15928",
   "metadata": {
    "execution": {
     "iopub.execute_input": "2024-12-02T15:15:57.386289Z",
     "iopub.status.busy": "2024-12-02T15:15:57.385925Z",
     "iopub.status.idle": "2024-12-02T15:15:58.780882Z",
     "shell.execute_reply": "2024-12-02T15:15:58.779696Z"
    },
    "papermill": {
     "duration": 1.402572,
     "end_time": "2024-12-02T15:15:58.783805",
     "exception": false,
     "start_time": "2024-12-02T15:15:57.381233",
     "status": "completed"
    },
    "tags": []
   },
   "outputs": [],
   "source": [
    "y = data[[\"TARGET\"]]\n",
    "X = data.drop(columns=[\"TARGET\"])\n",
    "# Tạm thời del data và test để tối ưu RAM\n",
    "del data"
   ]
  },
  {
   "cell_type": "code",
   "execution_count": 6,
   "id": "f5713e13",
   "metadata": {
    "execution": {
     "iopub.execute_input": "2024-12-02T15:15:58.792707Z",
     "iopub.status.busy": "2024-12-02T15:15:58.792290Z",
     "iopub.status.idle": "2024-12-02T15:16:07.604599Z",
     "shell.execute_reply": "2024-12-02T15:16:07.603342Z"
    },
    "papermill": {
     "duration": 8.820096,
     "end_time": "2024-12-02T15:16:07.607550",
     "exception": false,
     "start_time": "2024-12-02T15:15:58.787454",
     "status": "completed"
    },
    "tags": []
   },
   "outputs": [
    {
     "name": "stdout",
     "output_type": "stream",
     "text": [
      "There are 23 columns with just 1 unique value\n",
      "Removing these from dataset\n"
     ]
    }
   ],
   "source": [
    "empty_columns = []\n",
    "for col in X.columns:\n",
    "    if len(X[col].unique()) <=1:\n",
    "        empty_columns.append(col)\n",
    "    \n",
    "print(f\"There are {len(empty_columns)} columns with just 1 unique value\")\n",
    "print(\"Removing these from dataset\")\n",
    "X = X.drop(empty_columns, axis = 1)\n",
    "test = test.drop(empty_columns, axis = 1)"
   ]
  },
  {
   "cell_type": "code",
   "execution_count": 7,
   "id": "db1a03be",
   "metadata": {
    "execution": {
     "iopub.execute_input": "2024-12-02T15:16:07.617035Z",
     "iopub.status.busy": "2024-12-02T15:16:07.616601Z",
     "iopub.status.idle": "2024-12-02T15:16:09.019791Z",
     "shell.execute_reply": "2024-12-02T15:16:09.018578Z"
    },
    "papermill": {
     "duration": 1.411019,
     "end_time": "2024-12-02T15:16:09.022489",
     "exception": false,
     "start_time": "2024-12-02T15:16:07.611470",
     "status": "completed"
    },
    "tags": []
   },
   "outputs": [],
   "source": [
    "#removing the SK_ID_CURR from training and test data\n",
    "X = X.drop(['SK_ID_CURR'], axis = 1)\n",
    "skid_test = test.pop('SK_ID_CURR')"
   ]
  },
  {
   "cell_type": "code",
   "execution_count": 8,
   "id": "f6fb6e06",
   "metadata": {
    "execution": {
     "iopub.execute_input": "2024-12-02T15:16:09.031821Z",
     "iopub.status.busy": "2024-12-02T15:16:09.031361Z",
     "iopub.status.idle": "2024-12-02T15:16:16.159449Z",
     "shell.execute_reply": "2024-12-02T15:16:16.158198Z"
    },
    "papermill": {
     "duration": 7.136049,
     "end_time": "2024-12-02T15:16:16.162300",
     "exception": false,
     "start_time": "2024-12-02T15:16:09.026251",
     "status": "completed"
    },
    "tags": []
   },
   "outputs": [],
   "source": [
    "#replacing nan values with 0\n",
    "X[np.isnan(X)] = 0\n",
    "test[np.isnan(test)] = 0"
   ]
  },
  {
   "cell_type": "code",
   "execution_count": 9,
   "id": "25b153ca",
   "metadata": {
    "execution": {
     "iopub.execute_input": "2024-12-02T15:16:16.174663Z",
     "iopub.status.busy": "2024-12-02T15:16:16.174186Z",
     "iopub.status.idle": "2024-12-02T15:16:16.194743Z",
     "shell.execute_reply": "2024-12-02T15:16:16.193562Z"
    },
    "papermill": {
     "duration": 0.029642,
     "end_time": "2024-12-02T15:16:16.197255",
     "exception": false,
     "start_time": "2024-12-02T15:16:16.167613",
     "status": "completed"
    },
    "tags": []
   },
   "outputs": [],
   "source": [
    "from sklearn.tree import DecisionTreeClassifier\n",
    "from sklearn.metrics import roc_auc_score\n",
    "from sklearn.model_selection import train_test_split\n",
    "from sklearn.preprocessing import label_binarize\n",
    "import numpy as np\n",
    "\n",
    "class DecisionTreePruner:\n",
    "    def __init__(self, X_train, X_test, y_train, y_test, multiclass=False):\n",
    "        self.X_train = X_train\n",
    "        self.X_test = X_test\n",
    "        self.y_train = y_train\n",
    "        self.y_test = y_test\n",
    "        self.best_model = None\n",
    "        self.best_score = 0\n",
    "        self.multiclass = multiclass\n",
    "        self.base_tree = None\n",
    "        self.best_ccp = 0\n",
    "\n",
    "        # If multiclass, binarize labels for ROC-AUC\n",
    "        if self.multiclass:\n",
    "            self.y_train_bin = label_binarize(y_train, classes=np.unique(y_train))\n",
    "            self.y_test_bin = label_binarize(y_test, classes=np.unique(y_test))\n",
    "        else:\n",
    "            self.y_train_bin = y_train\n",
    "            self.y_test_bin = y_test\n",
    "\n",
    "    def evaluate_model(self, model):\n",
    "        # Get predicted probabilities for the positive class (class 1)\n",
    "        y_prob = model.predict_proba(self.X_test)\n",
    "    \n",
    "        # Calculate ROC-AUC score for binary classification\n",
    "        score = roc_auc_score(self.y_test, y_prob[:, 1])\n",
    "        return score\n",
    "\n",
    "    def cost_complexity_pruning(self):\n",
    "        path = self.base_tree.cost_complexity_pruning_path(self.X_train, self.y_train)\n",
    "        ccp_alphas = path.ccp_alphas\n",
    "        ccp_alphas_subset = np.linspace(ccp_alphas.min(), ccp_alphas.max(), num=30)\n",
    "        print(f\"ccp alpha in range ({ccp_alphas.min()},{ccp_alphas.max()})\")\n",
    "        print(\"==============================================\")\n",
    "        epoch = 1\n",
    "        N = len(ccp_alphas)\n",
    "        \n",
    "        best_tree = None\n",
    "        best_score = 0\n",
    "        \n",
    "        for alpha in ccp_alphas_subset:\n",
    "            tree = DecisionTreeClassifier(random_state=42, ccp_alpha=alpha)\n",
    "            tree.fit(self.X_train, self.y_train)\n",
    "            score = self.evaluate_model(tree)\n",
    "            \n",
    "            if score > best_score:\n",
    "                best_score = score\n",
    "                best_tree = tree\n",
    "                self.best_ccp = alpha\n",
    "\n",
    "            print(f\"Done Epoch {epoch} in {N}\")\n",
    "            epoch += 1\n",
    "        return best_tree, best_score\n",
    "\n",
    "    def reduced_error_pruning(self, max_depth_range):\n",
    "        best_tree = None\n",
    "        best_score = 0\n",
    "        \n",
    "        for max_depth in max_depth_range:\n",
    "            tree = DecisionTreeClassifier(random_state=42, max_depth=max_depth)\n",
    "            tree.fit(self.X_train, self.y_train)\n",
    "            score = self.evaluate_model(tree)\n",
    "            \n",
    "            if score > best_score:\n",
    "                best_score = score\n",
    "                best_tree = tree\n",
    "        \n",
    "        return best_tree, best_score\n",
    "\n",
    "    def minimum_impurity_decrease(self, impurity_range):\n",
    "        best_tree = None\n",
    "        best_score = 0\n",
    "        \n",
    "        for min_impurity_decrease in impurity_range:\n",
    "            tree = DecisionTreeClassifier(random_state=42, min_impurity_decrease=min_impurity_decrease)\n",
    "            tree.fit(self.X_train, self.y_train)\n",
    "            score = self.evaluate_model(tree)\n",
    "            \n",
    "            if score > best_score:\n",
    "                best_score = score\n",
    "                best_tree = tree\n",
    "        \n",
    "        return best_tree, best_score\n",
    "\n",
    "    def minimum_leaf_size(self, min_samples_leaf_range):\n",
    "        best_tree = None\n",
    "        best_score = 0\n",
    "        \n",
    "        for min_samples_leaf in min_samples_leaf_range:\n",
    "            tree = DecisionTreeClassifier(random_state=42, min_samples_leaf=min_samples_leaf)\n",
    "            tree.fit(self.X_train, self.y_train)\n",
    "            score = self.evaluate_model(tree)\n",
    "            \n",
    "            if score > best_score:\n",
    "                best_score = score\n",
    "                best_tree = tree\n",
    "        \n",
    "        return best_tree, best_score\n",
    "\n",
    "    def run_all_pruning_methods(self):\n",
    "        # Train the base tree\n",
    "        self.base_tree = DecisionTreeClassifier(random_state=42)\n",
    "        self.base_tree.fit(self.X_train, self.y_train)\n",
    "        \n",
    "        self.best_model, self.best_score = self.cost_complexity_pruning()\n",
    "        print(f\"Best CCP ROC-AUC: {self.best_score:.4f}\")\n",
    "        \n",
    "        tree, score = self.reduced_error_pruning(range(1, 10))\n",
    "        if score > self.best_score:\n",
    "            self.best_model = tree\n",
    "            self.best_score = score\n",
    "        print(f\"Best Reduced Error ROC-AUC: {score:.4f}\")\n",
    "        \n",
    "        tree, score = self.minimum_impurity_decrease([0.0, 0.01, 0.02, 0.05])\n",
    "        if score > self.best_score:\n",
    "            self.best_model = tree\n",
    "            self.best_score = score\n",
    "        print(f\"Best Minimum Impurity Decrease ROC-AUC: {score:.4f}\")\n",
    "        \n",
    "        tree, score = self.minimum_leaf_size(range(1, 20))\n",
    "        if score > self.best_score:\n",
    "            self.best_model = tree\n",
    "            self.best_score = score\n",
    "        print(f\"Best Minimum Leaf Size ROC-AUC: {score:.4f}\")\n",
    "        \n",
    "        print(f\"Overall Best ROC-AUC: {self.best_score:.4f}\")"
   ]
  },
  {
   "cell_type": "code",
   "execution_count": 10,
   "id": "d1bf62f9",
   "metadata": {
    "execution": {
     "iopub.execute_input": "2024-12-02T15:16:16.206519Z",
     "iopub.status.busy": "2024-12-02T15:16:16.206117Z",
     "iopub.status.idle": "2024-12-02T15:16:19.710531Z",
     "shell.execute_reply": "2024-12-02T15:16:19.709177Z"
    },
    "papermill": {
     "duration": 3.512046,
     "end_time": "2024-12-02T15:16:19.713143",
     "exception": false,
     "start_time": "2024-12-02T15:16:16.201097",
     "status": "completed"
    },
    "tags": []
   },
   "outputs": [],
   "source": [
    "\n",
    "    # Split the dataset\n",
    "    X_train, X_test, y_train, y_test = train_test_split(X, y, test_size=0.3, random_state=42)\n",
    "\n",
    "    # # Initialize and run the pruner for multiclass\n",
    "    # pruner = DecisionTreePruner(X_train, X_test, y_train, y_test, multiclass=True)\n",
    "    # pruner.run_all_pruning_methods()\n",
    "\n",
    "    # The final best model is stored in `pruner.best_model`"
   ]
  },
  {
   "cell_type": "code",
   "execution_count": 11,
   "id": "23518807",
   "metadata": {
    "execution": {
     "iopub.execute_input": "2024-12-02T15:16:19.724180Z",
     "iopub.status.busy": "2024-12-02T15:16:19.723778Z",
     "iopub.status.idle": "2024-12-02T21:52:55.910213Z",
     "shell.execute_reply": "2024-12-02T21:52:55.907638Z"
    },
    "papermill": {
     "duration": 23796.202046,
     "end_time": "2024-12-02T21:52:55.920285",
     "exception": false,
     "start_time": "2024-12-02T15:16:19.718239",
     "status": "completed"
    },
    "tags": []
   },
   "outputs": [
    {
     "name": "stdout",
     "output_type": "stream",
     "text": [
      "ccp alpha in range (0.0,0.007397956008650508)\n",
      "==============================================\n",
      "Done Epoch 1 in 3555\n",
      "Done Epoch 2 in 3555\n",
      "Done Epoch 3 in 3555\n",
      "Done Epoch 4 in 3555\n",
      "Done Epoch 5 in 3555\n",
      "Done Epoch 6 in 3555\n",
      "Done Epoch 7 in 3555\n",
      "Done Epoch 8 in 3555\n",
      "Done Epoch 9 in 3555\n",
      "Done Epoch 10 in 3555\n",
      "Done Epoch 11 in 3555\n",
      "Done Epoch 12 in 3555\n",
      "Done Epoch 13 in 3555\n",
      "Done Epoch 14 in 3555\n",
      "Done Epoch 15 in 3555\n",
      "Done Epoch 16 in 3555\n",
      "Done Epoch 17 in 3555\n",
      "Done Epoch 18 in 3555\n",
      "Done Epoch 19 in 3555\n",
      "Done Epoch 20 in 3555\n",
      "Done Epoch 21 in 3555\n",
      "Done Epoch 22 in 3555\n",
      "Done Epoch 23 in 3555\n",
      "Done Epoch 24 in 3555\n",
      "Done Epoch 25 in 3555\n",
      "Done Epoch 26 in 3555\n",
      "Done Epoch 27 in 3555\n",
      "Done Epoch 28 in 3555\n",
      "Done Epoch 29 in 3555\n",
      "Done Epoch 30 in 3555\n",
      "Best CCP: 0.0002551019313327761\n",
      "Best CCP model: DecisionTreeClassifier(ccp_alpha=0.0002551019313327761, random_state=42)\n",
      "Best ROC-AUC score: 0.7320\n"
     ]
    }
   ],
   "source": [
    "# Khởi tạo class DecisionTreePruner\n",
    "pruner = DecisionTreePruner(\n",
    "    X_train=X_train,\n",
    "    X_test=X_test,\n",
    "    y_train=y_train,\n",
    "    y_test=y_test,\n",
    "    multiclass=False  # Bài toán nhị phân\n",
    ")\n",
    "\n",
    "pruner.base_tree = DecisionTreeClassifier(random_state=42)\n",
    "pruner.base_tree.fit(pruner.X_train, pruner.y_train)\n",
    "\n",
    "# Chạy Cost-Complexity Pruning\n",
    "best_model, best_score = pruner.cost_complexity_pruning()\n",
    "\n",
    "# Hiển thị kết quả\n",
    "print(f\"Best CCP: {pruner.best_ccp}\")\n",
    "print(f\"Best CCP model: {best_model}\")\n",
    "print(f\"Best ROC-AUC score: {best_score:.4f}\")"
   ]
  },
  {
   "cell_type": "code",
   "execution_count": 12,
   "id": "fc25a40f",
   "metadata": {
    "execution": {
     "iopub.execute_input": "2024-12-02T21:52:55.935292Z",
     "iopub.status.busy": "2024-12-02T21:52:55.934743Z",
     "iopub.status.idle": "2024-12-02T21:52:57.427345Z",
     "shell.execute_reply": "2024-12-02T21:52:57.425783Z"
    },
    "papermill": {
     "duration": 1.503823,
     "end_time": "2024-12-02T21:52:57.429890",
     "exception": false,
     "start_time": "2024-12-02T21:52:55.926067",
     "status": "completed"
    },
    "tags": []
   },
   "outputs": [
    {
     "name": "stdout",
     "output_type": "stream",
     "text": [
      "Successfully submitted to Home Credit Default Risk\n"
     ]
    }
   ],
   "source": [
    "pd.DataFrame({'SK_ID_CURR': skid_test, 'TARGET' : best_model.predict_proba(test)[:,1]}).to_csv('submission_DT_.csv',index = False)\n",
    "print('Successfully submitted to Home Credit Default Risk')"
   ]
  },
  {
   "cell_type": "code",
   "execution_count": 13,
   "id": "098dd111",
   "metadata": {
    "execution": {
     "iopub.execute_input": "2024-12-02T21:52:57.443387Z",
     "iopub.status.busy": "2024-12-02T21:52:57.442599Z",
     "iopub.status.idle": "2024-12-02T21:52:57.448183Z",
     "shell.execute_reply": "2024-12-02T21:52:57.447119Z"
    },
    "papermill": {
     "duration": 0.015093,
     "end_time": "2024-12-02T21:52:57.450628",
     "exception": false,
     "start_time": "2024-12-02T21:52:57.435535",
     "status": "completed"
    },
    "tags": []
   },
   "outputs": [],
   "source": [
    "with open('model.pkl','wb') as f:\n",
    "    pickle.dump(pruner.best_model,f)"
   ]
  }
 ],
 "metadata": {
  "kaggle": {
   "accelerator": "none",
   "dataSources": [
    {
     "datasetId": 6192473,
     "sourceId": 10050520,
     "sourceType": "datasetVersion"
    }
   ],
   "dockerImageVersionId": 30786,
   "isGpuEnabled": false,
   "isInternetEnabled": true,
   "language": "python",
   "sourceType": "notebook"
  },
  "kernelspec": {
   "display_name": "Python 3",
   "language": "python",
   "name": "python3"
  },
  "language_info": {
   "codemirror_mode": {
    "name": "ipython",
    "version": 3
   },
   "file_extension": ".py",
   "mimetype": "text/x-python",
   "name": "python",
   "nbconvert_exporter": "python",
   "pygments_lexer": "ipython3",
   "version": "3.10.14"
  },
  "papermill": {
   "default_parameters": {},
   "duration": 23840.71491,
   "end_time": "2024-12-02T21:52:58.686746",
   "environment_variables": {},
   "exception": null,
   "input_path": "__notebook__.ipynb",
   "output_path": "__notebook__.ipynb",
   "parameters": {},
   "start_time": "2024-12-02T15:15:37.971836",
   "version": "2.6.0"
  }
 },
 "nbformat": 4,
 "nbformat_minor": 5
}
